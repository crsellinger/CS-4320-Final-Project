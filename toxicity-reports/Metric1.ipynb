{
 "cells": [
  {
   "cell_type": "code",
   "execution_count": 1,
   "id": "68700383",
   "metadata": {},
   "outputs": [],
   "source": [
    "###THIS METRIC GETS THE TOXIC MESSAGE COUNT PER USER IN A REPO###\n",
    "import psycopg2\n",
    "import pandas as pd \n",
    "import sqlalchemy as salc\n",
    "import numpy as np\n",
    "import seaborn as sns\n",
    "import matplotlib.pyplot as plt\n",
    "import warnings\n",
    "import datetime\n",
    "import json\n",
    "warnings.filterwarnings('ignore')\n",
    "\n",
    "with open(\"config.json\") as config_file:\n",
    "    config = json.load(config_file)\n",
    "\n",
    "database_connection_string = 'postgres+psycopg2://{}:{}@{}:{}/{}'.format(config['user'], config['password'], config['host'], config['port'], config['database'])\n",
    "\n",
    "dbschema='augur_data'\n",
    "engine = salc.create_engine(\n",
    "    database_connection_string,\n",
    "    connect_args={'options': '-csearch_path={}'.format(dbschema)})"
   ]
  },
  {
   "cell_type": "code",
   "execution_count": 3,
   "id": "55982307",
   "metadata": {},
   "outputs": [
    {
     "name": "stdin",
     "output_type": "stream",
     "text": [
      "input repo name: Loris\n"
     ]
    }
   ],
   "source": [
    "###USER PICKS REPO TO MEASURE THIS METRIC###\n",
    "repoName = input(\"input repo name:\")"
   ]
  },
  {
   "cell_type": "code",
   "execution_count": 4,
   "id": "4d43c374",
   "metadata": {},
   "outputs": [
    {
     "data": {
      "text/html": [
       "<div>\n",
       "<style scoped>\n",
       "    .dataframe tbody tr th:only-of-type {\n",
       "        vertical-align: middle;\n",
       "    }\n",
       "\n",
       "    .dataframe tbody tr th {\n",
       "        vertical-align: top;\n",
       "    }\n",
       "\n",
       "    .dataframe thead th {\n",
       "        text-align: right;\n",
       "    }\n",
       "</style>\n",
       "<table border=\"1\" class=\"dataframe\">\n",
       "  <thead>\n",
       "    <tr style=\"text-align: right;\">\n",
       "      <th></th>\n",
       "      <th>repo_id</th>\n",
       "      <th>repo_name</th>\n",
       "      <th>message_month</th>\n",
       "      <th>cntrb_id</th>\n",
       "      <th>average_sentiment</th>\n",
       "    </tr>\n",
       "  </thead>\n",
       "  <tbody>\n",
       "    <tr>\n",
       "      <th>0</th>\n",
       "      <td>26188</td>\n",
       "      <td>Loris</td>\n",
       "      <td>2019-11-01</td>\n",
       "      <td>298139</td>\n",
       "      <td>0.994333</td>\n",
       "    </tr>\n",
       "    <tr>\n",
       "      <th>1</th>\n",
       "      <td>26188</td>\n",
       "      <td>Loris</td>\n",
       "      <td>2020-03-01</td>\n",
       "      <td>397003</td>\n",
       "      <td>0.993386</td>\n",
       "    </tr>\n",
       "    <tr>\n",
       "      <th>2</th>\n",
       "      <td>26188</td>\n",
       "      <td>Loris</td>\n",
       "      <td>2016-12-01</td>\n",
       "      <td>303068</td>\n",
       "      <td>0.993256</td>\n",
       "    </tr>\n",
       "    <tr>\n",
       "      <th>3</th>\n",
       "      <td>26188</td>\n",
       "      <td>Loris</td>\n",
       "      <td>2020-05-01</td>\n",
       "      <td>297360</td>\n",
       "      <td>0.993102</td>\n",
       "    </tr>\n",
       "    <tr>\n",
       "      <th>4</th>\n",
       "      <td>26188</td>\n",
       "      <td>Loris</td>\n",
       "      <td>2018-09-01</td>\n",
       "      <td>297370</td>\n",
       "      <td>0.992395</td>\n",
       "    </tr>\n",
       "    <tr>\n",
       "      <th>...</th>\n",
       "      <td>...</td>\n",
       "      <td>...</td>\n",
       "      <td>...</td>\n",
       "      <td>...</td>\n",
       "      <td>...</td>\n",
       "    </tr>\n",
       "    <tr>\n",
       "      <th>16132</th>\n",
       "      <td>26188</td>\n",
       "      <td>Loris</td>\n",
       "      <td>2016-03-01</td>\n",
       "      <td>297198</td>\n",
       "      <td>-0.957898</td>\n",
       "    </tr>\n",
       "    <tr>\n",
       "      <th>16133</th>\n",
       "      <td>26188</td>\n",
       "      <td>Loris</td>\n",
       "      <td>2020-05-01</td>\n",
       "      <td>389737</td>\n",
       "      <td>-0.962243</td>\n",
       "    </tr>\n",
       "    <tr>\n",
       "      <th>16134</th>\n",
       "      <td>26188</td>\n",
       "      <td>Loris</td>\n",
       "      <td>2019-04-01</td>\n",
       "      <td>297219</td>\n",
       "      <td>-0.973245</td>\n",
       "    </tr>\n",
       "    <tr>\n",
       "      <th>16135</th>\n",
       "      <td>26188</td>\n",
       "      <td>Loris</td>\n",
       "      <td>2019-06-01</td>\n",
       "      <td>297206</td>\n",
       "      <td>-0.976898</td>\n",
       "    </tr>\n",
       "    <tr>\n",
       "      <th>16136</th>\n",
       "      <td>26188</td>\n",
       "      <td>Loris</td>\n",
       "      <td>2017-12-01</td>\n",
       "      <td>389737</td>\n",
       "      <td>-0.987205</td>\n",
       "    </tr>\n",
       "  </tbody>\n",
       "</table>\n",
       "<p>16137 rows × 5 columns</p>\n",
       "</div>"
      ],
      "text/plain": [
       "       repo_id repo_name message_month  cntrb_id  average_sentiment\n",
       "0        26188     Loris    2019-11-01    298139           0.994333\n",
       "1        26188     Loris    2020-03-01    397003           0.993386\n",
       "2        26188     Loris    2016-12-01    303068           0.993256\n",
       "3        26188     Loris    2020-05-01    297360           0.993102\n",
       "4        26188     Loris    2018-09-01    297370           0.992395\n",
       "...        ...       ...           ...       ...                ...\n",
       "16132    26188     Loris    2016-03-01    297198          -0.957898\n",
       "16133    26188     Loris    2020-05-01    389737          -0.962243\n",
       "16134    26188     Loris    2019-04-01    297219          -0.973245\n",
       "16135    26188     Loris    2019-06-01    297206          -0.976898\n",
       "16136    26188     Loris    2017-12-01    389737          -0.987205\n",
       "\n",
       "[16137 rows x 5 columns]"
      ]
     },
     "metadata": {},
     "output_type": "display_data"
    },
    {
     "data": {
      "text/plain": [
       "repo_id                       int64\n",
       "repo_name                    object\n",
       "message_month        datetime64[ns]\n",
       "cntrb_id                      int64\n",
       "average_sentiment           float64\n",
       "dtype: object"
      ]
     },
     "execution_count": 4,
     "metadata": {},
     "output_type": "execute_result"
    }
   ],
   "source": [
    "###GET TABLE OF ALL MESSAGES IN THIS REPO AND THEIR SENTIMENT SCORE###\n",
    "repolist = pd.DataFrame()\n",
    "\n",
    "repo_query = salc.sql.text(f\"\"\"\n",
    "            SELECT\n",
    "                repo.repo_id,\n",
    "                repo.repo_name,\n",
    "                date_trunc( 'month', message.msg_timestamp ) AS message_month,\n",
    "                message.cntrb_id, \n",
    "                AVG (message_analysis.sentiment_score) AS average_sentiment\n",
    "            FROM\n",
    "                repo, message_analysis, message, issue_message_ref, issues \n",
    "                where message_analysis.msg_id = message.msg_id \n",
    "                and \n",
    "                issue_message_ref.issue_id = issues.issue_id  \n",
    "                AND\n",
    "                issue_message_ref.msg_id = message.msg_id \n",
    "                AND\n",
    "                issues.repo_id = repo.repo_id \n",
    "                AND\n",
    "                repo.repo_name = '\"\"\" + repoName + \"\"\"'\n",
    "            GROUP BY\n",
    "                repo.repo_id,\n",
    "                repo.repo_name,\n",
    "                message.msg_timestamp, \n",
    "                message.cntrb_id \n",
    "            ORDER BY\n",
    "                average_sentiment DESC,\n",
    "                repo_id,\n",
    "                message_month DESC;\n",
    "    \"\"\")\n",
    "\n",
    "repolist = pd.read_sql(repo_query, con=engine)\n",
    "\n",
    "display(repolist)\n",
    "\n",
    "repolist.dtypes"
   ]
  },
  {
   "cell_type": "code",
   "execution_count": 5,
   "id": "34a36815",
   "metadata": {},
   "outputs": [
    {
     "data": {
      "text/html": [
       "<div>\n",
       "<style scoped>\n",
       "    .dataframe tbody tr th:only-of-type {\n",
       "        vertical-align: middle;\n",
       "    }\n",
       "\n",
       "    .dataframe tbody tr th {\n",
       "        vertical-align: top;\n",
       "    }\n",
       "\n",
       "    .dataframe thead th {\n",
       "        text-align: right;\n",
       "    }\n",
       "</style>\n",
       "<table border=\"1\" class=\"dataframe\">\n",
       "  <thead>\n",
       "    <tr style=\"text-align: right;\">\n",
       "      <th></th>\n",
       "      <th>repo_id</th>\n",
       "      <th>repo_name</th>\n",
       "      <th>cntrb_id</th>\n",
       "    </tr>\n",
       "  </thead>\n",
       "  <tbody>\n",
       "    <tr>\n",
       "      <th>0</th>\n",
       "      <td>26188</td>\n",
       "      <td>Loris</td>\n",
       "      <td>277109</td>\n",
       "    </tr>\n",
       "    <tr>\n",
       "      <th>1</th>\n",
       "      <td>26188</td>\n",
       "      <td>Loris</td>\n",
       "      <td>277456</td>\n",
       "    </tr>\n",
       "    <tr>\n",
       "      <th>2</th>\n",
       "      <td>26188</td>\n",
       "      <td>Loris</td>\n",
       "      <td>277532</td>\n",
       "    </tr>\n",
       "    <tr>\n",
       "      <th>3</th>\n",
       "      <td>26188</td>\n",
       "      <td>Loris</td>\n",
       "      <td>281788</td>\n",
       "    </tr>\n",
       "    <tr>\n",
       "      <th>4</th>\n",
       "      <td>26188</td>\n",
       "      <td>Loris</td>\n",
       "      <td>281876</td>\n",
       "    </tr>\n",
       "    <tr>\n",
       "      <th>...</th>\n",
       "      <td>...</td>\n",
       "      <td>...</td>\n",
       "      <td>...</td>\n",
       "    </tr>\n",
       "    <tr>\n",
       "      <th>117</th>\n",
       "      <td>26188</td>\n",
       "      <td>Loris</td>\n",
       "      <td>394582</td>\n",
       "    </tr>\n",
       "    <tr>\n",
       "      <th>118</th>\n",
       "      <td>26188</td>\n",
       "      <td>Loris</td>\n",
       "      <td>396107</td>\n",
       "    </tr>\n",
       "    <tr>\n",
       "      <th>119</th>\n",
       "      <td>26188</td>\n",
       "      <td>Loris</td>\n",
       "      <td>396858</td>\n",
       "    </tr>\n",
       "    <tr>\n",
       "      <th>120</th>\n",
       "      <td>26188</td>\n",
       "      <td>Loris</td>\n",
       "      <td>397003</td>\n",
       "    </tr>\n",
       "    <tr>\n",
       "      <th>121</th>\n",
       "      <td>26188</td>\n",
       "      <td>Loris</td>\n",
       "      <td>411944</td>\n",
       "    </tr>\n",
       "  </tbody>\n",
       "</table>\n",
       "<p>122 rows × 3 columns</p>\n",
       "</div>"
      ],
      "text/plain": [
       "     repo_id repo_name  cntrb_id\n",
       "0      26188     Loris    277109\n",
       "1      26188     Loris    277456\n",
       "2      26188     Loris    277532\n",
       "3      26188     Loris    281788\n",
       "4      26188     Loris    281876\n",
       "..       ...       ...       ...\n",
       "117    26188     Loris    394582\n",
       "118    26188     Loris    396107\n",
       "119    26188     Loris    396858\n",
       "120    26188     Loris    397003\n",
       "121    26188     Loris    411944\n",
       "\n",
       "[122 rows x 3 columns]"
      ]
     },
     "metadata": {},
     "output_type": "display_data"
    },
    {
     "data": {
      "text/plain": [
       "repo_id                       int64\n",
       "repo_name                    object\n",
       "message_month        datetime64[ns]\n",
       "cntrb_id                      int64\n",
       "average_sentiment           float64\n",
       "dtype: object"
      ]
     },
     "execution_count": 5,
     "metadata": {},
     "output_type": "execute_result"
    }
   ],
   "source": [
    "####THIS GETS A LIST OF ALL THE CONTRIBUTERS IN THE REPO###\n",
    "repolist2 = pd.DataFrame()\n",
    "\n",
    "repo_query2 = salc.sql.text(f\"\"\"\n",
    "            SELECT \n",
    "                repo.repo_id,\n",
    "                repo.repo_name,\n",
    "                message.cntrb_id\n",
    "            FROM\n",
    "                repo, message_analysis, message, issue_message_ref, issues \n",
    "                where message_analysis.msg_id = message.msg_id \n",
    "                AND\n",
    "                issue_message_ref.issue_id = issues.issue_id  \n",
    "                AND\n",
    "                issue_message_ref.msg_id = message.msg_id \n",
    "                AND\n",
    "                issues.repo_id = repo.repo_id \n",
    "                AND\n",
    "                repo.repo_name = '\"\"\" + repoName + \"\"\"'\n",
    "            GROUP BY\n",
    "                repo.repo_id,\n",
    "                repo.repo_name, \n",
    "                message.cntrb_id \n",
    "            ORDER BY\n",
    "                repo_id\n",
    "    \"\"\")\n",
    "\n",
    "repolist2 = pd.read_sql(repo_query2, con=engine)\n",
    "\n",
    "display(repolist2)\n",
    "\n",
    "repolist.dtypes"
   ]
  },
  {
   "cell_type": "code",
   "execution_count": 6,
   "id": "94284e20",
   "metadata": {},
   "outputs": [
    {
     "name": "stdout",
     "output_type": "stream",
     "text": [
      "0.06536233905501294\n",
      "921\n",
      "16137\n"
     ]
    }
   ],
   "source": [
    "###THIS GIVES THE AVERAGE SENTIMENT OF ALL MESSAGES, THE TOTAL TOXIC MESSAGE COUNT, AND THE TOTAL MESSAGE COUNT###\n",
    "#This isn't needed for this metric, but will be used in other metrics#\n",
    "overall_score = sum(repolist.average_sentiment)/len(repolist.average_sentiment)\n",
    "print(overall_score)\n",
    "\n",
    "summ = 0\n",
    "for i  in repolist.average_sentiment:\n",
    "    if i < 0:\n",
    "        summ = summ + 1\n",
    "print(summ)\n",
    "print(len(repolist))"
   ]
  },
  {
   "cell_type": "code",
   "execution_count": 77,
   "id": "29b2fdbe",
   "metadata": {},
   "outputs": [
    {
     "name": "stdout",
     "output_type": "stream",
     "text": [
      "ID: 277109 toxic message count: 0\n",
      "ID: 277456 toxic message count: 0\n",
      "ID: 277532 toxic message count: 0\n",
      "ID: 281788 toxic message count: 3\n",
      "ID: 281876 toxic message count: 1\n",
      "ID: 297198 toxic message count: 13\n",
      "ID: 297199 toxic message count: 1\n",
      "ID: 297202 toxic message count: 18\n",
      "ID: 297203 toxic message count: 13\n",
      "ID: 297204 toxic message count: 3\n",
      "ID: 297205 toxic message count: 2\n",
      "ID: 297206 toxic message count: 27\n",
      "ID: 297208 toxic message count: 2\n",
      "ID: 297210 toxic message count: 1\n",
      "ID: 297211 toxic message count: 1\n",
      "ID: 297212 toxic message count: 5\n",
      "ID: 297213 toxic message count: 12\n",
      "ID: 297216 toxic message count: 9\n",
      "ID: 297218 toxic message count: 10\n",
      "ID: 297219 toxic message count: 54\n",
      "ID: 297220 toxic message count: 56\n",
      "ID: 297221 toxic message count: 0\n",
      "ID: 297227 toxic message count: 0\n",
      "ID: 297229 toxic message count: 2\n",
      "ID: 297232 toxic message count: 13\n",
      "ID: 297247 toxic message count: 0\n",
      "ID: 297264 toxic message count: 0\n",
      "ID: 297355 toxic message count: 14\n",
      "ID: 297360 toxic message count: 177\n",
      "ID: 297367 toxic message count: 0\n"
     ]
    }
   ],
   "source": [
    "###THIS TALLIES UP THE TOXIC MESSAGES FOR EACH USER###\n",
    "ID_array = np.zeros(len(repolist2.cntrb_id))\n",
    "Toxic_Count_Array = np.zeros(len(repolist2.cntrb_id))\n",
    "contribIDs = []\n",
    "messageCount = []\n",
    "totalMessages = []\n",
    "countBundle = []\n",
    "totalMessageCount = 0\n",
    "for i in range(30):\n",
    "    toxicCount = 0\n",
    "    for j in range(len(repolist.cntrb_id)):\n",
    "        if repolist.cntrb_id[j] == repolist2.cntrb_id[i]:\n",
    "            totalMessageCount += 1\n",
    "            if repolist.average_sentiment[j] < 0:\n",
    "                toxicCount = toxicCount + 1\n",
    "    Toxic_Count_Array[i] = toxicCount\n",
    "    contribIDs.append(str(repolist2.cntrb_id[i]))\n",
    "    messageCount.append(toxicCount)\n",
    "    print('ID:', repolist2.cntrb_id[i], 'toxic message count:', toxicCount)\n",
    "    totalMessages.append(totalMessageCount)\n",
    "    countBundle.append([toxicCount, totalMessageCount])\n",
    "# print(contribIDs)\n",
    "# print(messageCount)"
   ]
  },
  {
   "cell_type": "code",
   "execution_count": 78,
   "id": "87ce3322",
   "metadata": {},
   "outputs": [
    {
     "name": "stdout",
     "output_type": "stream",
     "text": [
      "<class 'str'>\n",
      "[0, 0, 0, 3, 1, 13, 1, 18, 13, 3, 2, 27, 2, 1, 1, 5, 12, 9, 10, 54, 56, 0, 0, 2, 13, 0, 0, 14, 177, 0]\n"
     ]
    },
    {
     "data": {
      "text/plain": [
       "<matplotlib.lines.Line2D at 0x7f78084d8f90>"
      ]
     },
     "execution_count": 78,
     "metadata": {},
     "output_type": "execute_result"
    },
    {
     "data": {
      "image/png": "[encoded data removed]",
      "text/plain": [
       "<Figure size 2160x720 with 1 Axes>"
      ]
     },
     "metadata": {
      "needs_background": "light"
     },
     "output_type": "display_data"
    }
   ],
   "source": [
    "# sz = 5\n",
    "# plt.scatter(repolist2.cntrb_id, Toxic_Count_Arra/y, sz)\n",
    "print(type(contribIDs[0]))\n",
    "print(messageCount)\n",
    "# plt.bar(contribIDs, messageCount)\n",
    "plt.figure(figsize=(30, 10))\n",
    "chart = plt.bar(contribIDs, messageCount, 1)\n",
    "for i in plt.bar_label(chart):\n",
    "    i.set_fontsize(20)\n",
    "plt.axhline(y=75,linewidth=1, color='k', label='mean')\n"
   ]
  },
  {
   "cell_type": "code",
   "execution_count": 80,
   "id": "425c28d7",
   "metadata": {},
   "outputs": [
    {
     "name": "stdout",
     "output_type": "stream",
     "text": [
      "['277109', '277456', '277532', '281788', '281876', '297198', '297199', '297202', '297203', '297204', '297205', '297206', '297208', '297210', '297211', '297212', '297213', '297216', '297218', '297219', '297220', '297221', '297227', '297229', '297232', '297247', '297264', '297355', '297360', '297367']\n",
      "[[0, 1], [0, 503], [0, 505], [3, 550], [1, 553], [13, 712], [1, 802], [18, 1350], [13, 1509], [3, 1591], [2, 1641], [27, 2141], [2, 2174], [1, 2227], [1, 2259], [5, 2377], [12, 2500], [9, 2772], [10, 2869], [54, 4602], [56, 5265], [0, 5275], [0, 5277], [2, 5362], [13, 5963], [0, 5967], [0, 5974], [14, 6181], [177, 8567], [0, 8586]]\n"
     ]
    },
    {
     "ename": "ValueError",
     "evalue": "shape mismatch: objects cannot be broadcast to a single shape",
     "output_type": "error",
     "traceback": [
      "\u001b[0;31m---------------------------------------------------------------------------\u001b[0m",
      "\u001b[0;31mValueError\u001b[0m                                Traceback (most recent call last)",
      "\u001b[0;32m<ipython-input-80-bf829614da22>\u001b[0m in \u001b[0;36m<module>\u001b[0;34m\u001b[0m\n\u001b[1;32m      1\u001b[0m \u001b[0mprint\u001b[0m\u001b[0;34m(\u001b[0m\u001b[0mcontribIDs\u001b[0m\u001b[0;34m)\u001b[0m\u001b[0;34m\u001b[0m\u001b[0;34m\u001b[0m\u001b[0m\n\u001b[1;32m      2\u001b[0m \u001b[0mprint\u001b[0m\u001b[0;34m(\u001b[0m\u001b[0mcountBundle\u001b[0m\u001b[0;34m)\u001b[0m\u001b[0;34m\u001b[0m\u001b[0;34m\u001b[0m\u001b[0m\n\u001b[0;32m----> 3\u001b[0;31m \u001b[0mchart2\u001b[0m \u001b[0;34m=\u001b[0m \u001b[0mplt\u001b[0m\u001b[0;34m.\u001b[0m\u001b[0mbar\u001b[0m\u001b[0;34m(\u001b[0m\u001b[0mcontribIDs\u001b[0m\u001b[0;34m,\u001b[0m \u001b[0mcountBundle\u001b[0m\u001b[0;34m)\u001b[0m\u001b[0;34m\u001b[0m\u001b[0;34m\u001b[0m\u001b[0m\n\u001b[0m",
      "\u001b[0;32m~/CS_Courses/CS4320/finalProject/virtualenvs/augur-community-reports/lib/python3.7/site-packages/matplotlib/pyplot.py\u001b[0m in \u001b[0;36mbar\u001b[0;34m(x, height, width, bottom, align, data, **kwargs)\u001b[0m\n\u001b[1;32m   2620\u001b[0m     return gca().bar(\n\u001b[1;32m   2621\u001b[0m         \u001b[0mx\u001b[0m\u001b[0;34m,\u001b[0m \u001b[0mheight\u001b[0m\u001b[0;34m,\u001b[0m \u001b[0mwidth\u001b[0m\u001b[0;34m=\u001b[0m\u001b[0mwidth\u001b[0m\u001b[0;34m,\u001b[0m \u001b[0mbottom\u001b[0m\u001b[0;34m=\u001b[0m\u001b[0mbottom\u001b[0m\u001b[0;34m,\u001b[0m \u001b[0malign\u001b[0m\u001b[0;34m=\u001b[0m\u001b[0malign\u001b[0m\u001b[0;34m,\u001b[0m\u001b[0;34m\u001b[0m\u001b[0;34m\u001b[0m\u001b[0m\n\u001b[0;32m-> 2622\u001b[0;31m         **({\"data\": data} if data is not None else {}), **kwargs)\n\u001b[0m\u001b[1;32m   2623\u001b[0m \u001b[0;34m\u001b[0m\u001b[0m\n\u001b[1;32m   2624\u001b[0m \u001b[0;34m\u001b[0m\u001b[0m\n",
      "\u001b[0;32m~/CS_Courses/CS4320/finalProject/virtualenvs/augur-community-reports/lib/python3.7/site-packages/matplotlib/__init__.py\u001b[0m in \u001b[0;36minner\u001b[0;34m(ax, data, *args, **kwargs)\u001b[0m\n\u001b[1;32m   1350\u001b[0m     \u001b[0;32mdef\u001b[0m \u001b[0minner\u001b[0m\u001b[0;34m(\u001b[0m\u001b[0max\u001b[0m\u001b[0;34m,\u001b[0m \u001b[0;34m*\u001b[0m\u001b[0margs\u001b[0m\u001b[0;34m,\u001b[0m \u001b[0mdata\u001b[0m\u001b[0;34m=\u001b[0m\u001b[0;32mNone\u001b[0m\u001b[0;34m,\u001b[0m \u001b[0;34m**\u001b[0m\u001b[0mkwargs\u001b[0m\u001b[0;34m)\u001b[0m\u001b[0;34m:\u001b[0m\u001b[0;34m\u001b[0m\u001b[0;34m\u001b[0m\u001b[0m\n\u001b[1;32m   1351\u001b[0m         \u001b[0;32mif\u001b[0m \u001b[0mdata\u001b[0m \u001b[0;32mis\u001b[0m \u001b[0;32mNone\u001b[0m\u001b[0;34m:\u001b[0m\u001b[0;34m\u001b[0m\u001b[0;34m\u001b[0m\u001b[0m\n\u001b[0;32m-> 1352\u001b[0;31m             \u001b[0;32mreturn\u001b[0m \u001b[0mfunc\u001b[0m\u001b[0;34m(\u001b[0m\u001b[0max\u001b[0m\u001b[0;34m,\u001b[0m \u001b[0;34m*\u001b[0m\u001b[0mmap\u001b[0m\u001b[0;34m(\u001b[0m\u001b[0msanitize_sequence\u001b[0m\u001b[0;34m,\u001b[0m \u001b[0margs\u001b[0m\u001b[0;34m)\u001b[0m\u001b[0;34m,\u001b[0m \u001b[0;34m**\u001b[0m\u001b[0mkwargs\u001b[0m\u001b[0;34m)\u001b[0m\u001b[0;34m\u001b[0m\u001b[0;34m\u001b[0m\u001b[0m\n\u001b[0m\u001b[1;32m   1353\u001b[0m \u001b[0;34m\u001b[0m\u001b[0m\n\u001b[1;32m   1354\u001b[0m         \u001b[0mbound\u001b[0m \u001b[0;34m=\u001b[0m \u001b[0mnew_sig\u001b[0m\u001b[0;34m.\u001b[0m\u001b[0mbind\u001b[0m\u001b[0;34m(\u001b[0m\u001b[0max\u001b[0m\u001b[0;34m,\u001b[0m \u001b[0;34m*\u001b[0m\u001b[0margs\u001b[0m\u001b[0;34m,\u001b[0m \u001b[0;34m**\u001b[0m\u001b[0mkwargs\u001b[0m\u001b[0;34m)\u001b[0m\u001b[0;34m\u001b[0m\u001b[0;34m\u001b[0m\u001b[0m\n",
      "\u001b[0;32m~/CS_Courses/CS4320/finalProject/virtualenvs/augur-community-reports/lib/python3.7/site-packages/matplotlib/axes/_axes.py\u001b[0m in \u001b[0;36mbar\u001b[0;34m(self, x, height, width, bottom, align, **kwargs)\u001b[0m\n\u001b[1;32m   2304\u001b[0m         x, height, width, y, linewidth, hatch = np.broadcast_arrays(\n\u001b[1;32m   2305\u001b[0m             \u001b[0;31m# Make args iterable too.\u001b[0m\u001b[0;34m\u001b[0m\u001b[0;34m\u001b[0m\u001b[0;34m\u001b[0m\u001b[0m\n\u001b[0;32m-> 2306\u001b[0;31m             np.atleast_1d(x), height, width, y, linewidth, hatch)\n\u001b[0m\u001b[1;32m   2307\u001b[0m \u001b[0;34m\u001b[0m\u001b[0m\n\u001b[1;32m   2308\u001b[0m         \u001b[0;31m# Now that units have been converted, set the tick locations.\u001b[0m\u001b[0;34m\u001b[0m\u001b[0;34m\u001b[0m\u001b[0;34m\u001b[0m\u001b[0m\n",
      "\u001b[0;32m<__array_function__ internals>\u001b[0m in \u001b[0;36mbroadcast_arrays\u001b[0;34m(*args, **kwargs)\u001b[0m\n",
      "\u001b[0;32m~/CS_Courses/CS4320/finalProject/virtualenvs/augur-community-reports/lib/python3.7/site-packages/numpy/lib/stride_tricks.py\u001b[0m in \u001b[0;36mbroadcast_arrays\u001b[0;34m(subok, *args)\u001b[0m\n\u001b[1;32m    536\u001b[0m     \u001b[0margs\u001b[0m \u001b[0;34m=\u001b[0m \u001b[0;34m[\u001b[0m\u001b[0mnp\u001b[0m\u001b[0;34m.\u001b[0m\u001b[0marray\u001b[0m\u001b[0;34m(\u001b[0m\u001b[0m_m\u001b[0m\u001b[0;34m,\u001b[0m \u001b[0mcopy\u001b[0m\u001b[0;34m=\u001b[0m\u001b[0;32mFalse\u001b[0m\u001b[0;34m,\u001b[0m \u001b[0msubok\u001b[0m\u001b[0;34m=\u001b[0m\u001b[0msubok\u001b[0m\u001b[0;34m)\u001b[0m \u001b[0;32mfor\u001b[0m \u001b[0m_m\u001b[0m \u001b[0;32min\u001b[0m \u001b[0margs\u001b[0m\u001b[0;34m]\u001b[0m\u001b[0;34m\u001b[0m\u001b[0;34m\u001b[0m\u001b[0m\n\u001b[1;32m    537\u001b[0m \u001b[0;34m\u001b[0m\u001b[0m\n\u001b[0;32m--> 538\u001b[0;31m     \u001b[0mshape\u001b[0m \u001b[0;34m=\u001b[0m \u001b[0m_broadcast_shape\u001b[0m\u001b[0;34m(\u001b[0m\u001b[0;34m*\u001b[0m\u001b[0margs\u001b[0m\u001b[0;34m)\u001b[0m\u001b[0;34m\u001b[0m\u001b[0;34m\u001b[0m\u001b[0m\n\u001b[0m\u001b[1;32m    539\u001b[0m \u001b[0;34m\u001b[0m\u001b[0m\n\u001b[1;32m    540\u001b[0m     \u001b[0;32mif\u001b[0m \u001b[0mall\u001b[0m\u001b[0;34m(\u001b[0m\u001b[0marray\u001b[0m\u001b[0;34m.\u001b[0m\u001b[0mshape\u001b[0m \u001b[0;34m==\u001b[0m \u001b[0mshape\u001b[0m \u001b[0;32mfor\u001b[0m \u001b[0marray\u001b[0m \u001b[0;32min\u001b[0m \u001b[0margs\u001b[0m\u001b[0;34m)\u001b[0m\u001b[0;34m:\u001b[0m\u001b[0;34m\u001b[0m\u001b[0;34m\u001b[0m\u001b[0m\n",
      "\u001b[0;32m~/CS_Courses/CS4320/finalProject/virtualenvs/augur-community-reports/lib/python3.7/site-packages/numpy/lib/stride_tricks.py\u001b[0m in \u001b[0;36m_broadcast_shape\u001b[0;34m(*args)\u001b[0m\n\u001b[1;32m    418\u001b[0m     \u001b[0;31m# use the old-iterator because np.nditer does not handle size 0 arrays\u001b[0m\u001b[0;34m\u001b[0m\u001b[0;34m\u001b[0m\u001b[0;34m\u001b[0m\u001b[0m\n\u001b[1;32m    419\u001b[0m     \u001b[0;31m# consistently\u001b[0m\u001b[0;34m\u001b[0m\u001b[0;34m\u001b[0m\u001b[0;34m\u001b[0m\u001b[0m\n\u001b[0;32m--> 420\u001b[0;31m     \u001b[0mb\u001b[0m \u001b[0;34m=\u001b[0m \u001b[0mnp\u001b[0m\u001b[0;34m.\u001b[0m\u001b[0mbroadcast\u001b[0m\u001b[0;34m(\u001b[0m\u001b[0;34m*\u001b[0m\u001b[0margs\u001b[0m\u001b[0;34m[\u001b[0m\u001b[0;34m:\u001b[0m\u001b[0;36m32\u001b[0m\u001b[0;34m]\u001b[0m\u001b[0;34m)\u001b[0m\u001b[0;34m\u001b[0m\u001b[0;34m\u001b[0m\u001b[0m\n\u001b[0m\u001b[1;32m    421\u001b[0m     \u001b[0;31m# unfortunately, it cannot handle 32 or more arguments directly\u001b[0m\u001b[0;34m\u001b[0m\u001b[0;34m\u001b[0m\u001b[0;34m\u001b[0m\u001b[0m\n\u001b[1;32m    422\u001b[0m     \u001b[0;32mfor\u001b[0m \u001b[0mpos\u001b[0m \u001b[0;32min\u001b[0m \u001b[0mrange\u001b[0m\u001b[0;34m(\u001b[0m\u001b[0;36m32\u001b[0m\u001b[0;34m,\u001b[0m \u001b[0mlen\u001b[0m\u001b[0;34m(\u001b[0m\u001b[0margs\u001b[0m\u001b[0;34m)\u001b[0m\u001b[0;34m,\u001b[0m \u001b[0;36m31\u001b[0m\u001b[0;34m)\u001b[0m\u001b[0;34m:\u001b[0m\u001b[0;34m\u001b[0m\u001b[0;34m\u001b[0m\u001b[0m\n",
      "\u001b[0;31mValueError\u001b[0m: shape mismatch: objects cannot be broadcast to a single shape"
     ]
    },
    {
     "data": {
      "image/png": "[encoded data removed]",
      "text/plain": [
       "<Figure size 432x288 with 1 Axes>"
      ]
     },
     "metadata": {
      "needs_background": "light"
     },
     "output_type": "display_data"
    }
   ],
   "source": [
    "# print(contribIDs)\n",
    "# print(countBundle)\n",
    "# chart2 = plt.bar(contribIDs, countBundle)"
   ]
  },
  {
   "cell_type": "code",
   "execution_count": null,
   "id": "e9da35c0",
   "metadata": {},
   "outputs": [],
   "source": []
  }
 ],
 "metadata": {
  "kernelspec": {
   "display_name": "Python 3",
   "language": "python",
   "name": "python3"
  },
  "language_info": {
   "codemirror_mode": {
    "name": "ipython",
    "version": 3
   },
   "file_extension": ".py",
   "mimetype": "text/x-python",
   "name": "python",
   "nbconvert_exporter": "python",
   "pygments_lexer": "ipython3",
   "version": "3.7.10"
  }
 },
 "nbformat": 4,
 "nbformat_minor": 5
}
